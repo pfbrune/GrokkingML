{
  "nbformat": 4,
  "nbformat_minor": 0,
  "metadata": {
    "colab": {
      "name": "ch3_exercises.ipynb",
      "provenance": [],
      "collapsed_sections": [],
      "authorship_tag": "ABX9TyPFNmN4DjfwcvzaeF/yJb30",
      "include_colab_link": true
    },
    "kernelspec": {
      "name": "python3",
      "display_name": "Python 3"
    },
    "language_info": {
      "name": "python"
    }
  },
  "cells": [
    {
      "cell_type": "markdown",
      "metadata": {
        "id": "view-in-github",
        "colab_type": "text"
      },
      "source": [
        "<a href=\"https://colab.research.google.com/github/pfbrune/GrokkingML/blob/main/ch3_exercises.ipynb\" target=\"_parent\"><img src=\"https://colab.research.google.com/assets/colab-badge.svg\" alt=\"Open In Colab\"/></a>"
      ]
    },
    {
      "cell_type": "code",
      "execution_count": 2,
      "metadata": {
        "colab": {
          "base_uri": "https://localhost:8080/"
        },
        "id": "_PN_6cMHEzwp",
        "outputId": "37dca677-b33b-477c-baef-9ba300b2c62d"
      },
      "outputs": [
        {
          "output_type": "stream",
          "name": "stdout",
          "text": [
            "45-year-old user on mobile expected time would be 2.2 minutes\n"
          ]
        }
      ],
      "source": [
        "#3.1\n",
        "def t(d,m,y,a):\n",
        "  return 0.8*d + 0.5*m + 0.5*y + 0.2*a + 1.5\n",
        "result = t(0,1,0,1)\n",
        "print('45-year-old user on mobile expected time would be {} minutes'.format(result))"
      ]
    },
    {
      "cell_type": "code",
      "source": [
        "#3.3\n",
        "import numpy as np\n",
        "import pandas as pd\n",
        "df = pd.DataFrame(data={'Size (s)':[100,200,200,250,325],'Price (p)':[200,475,400,520,735]}, index=['House 1','House 2', 'House 3', 'House 4', 'House 5'])\n",
        "def price(size):\n",
        "  return 2*size + 50\n",
        "print(df,'\\n\\n')\n",
        "\n",
        "#part a)\n",
        "preds = price(df['Size (s)'])\n",
        "print('Predicted prices:\\n{}'.format(preds))\n",
        "\n",
        "#part b)\n",
        "diffs = df['Price (p)'] - preds\n",
        "diffs_np = diffs.to_numpy()\n",
        "mean_abs_error = np.mean(abs(diffs_np))\n",
        "print('\\n\\nThe mean absolute error is {}'.format(mean_abs_error))\n",
        "\n",
        "#part c)\n",
        "rmsq_error = ((np.dot(diffs_np, diffs_np))*(1/len(diffs)))**0.5\n",
        "print('\\n\\nThe root mean square error is {}'.format(rmsq_error))"
      ],
      "metadata": {
        "colab": {
          "base_uri": "https://localhost:8080/"
        },
        "id": "I23KID-tFa8a",
        "outputId": "1210c960-aa4d-4496-c059-0245a8993da9"
      },
      "execution_count": 18,
      "outputs": [
        {
          "output_type": "stream",
          "name": "stdout",
          "text": [
            "         Size (s)  Price (p)\n",
            "House 1       100        200\n",
            "House 2       200        475\n",
            "House 3       200        400\n",
            "House 4       250        520\n",
            "House 5       325        735 \n",
            "\n",
            "\n",
            "Predicted prices:\n",
            "House 1    250\n",
            "House 2    450\n",
            "House 3    450\n",
            "House 4    550\n",
            "House 5    700\n",
            "Name: Size (s), dtype: int64\n",
            "\n",
            "\n",
            "The mean absolute error is 38.0\n",
            "\n",
            "\n",
            "The root mean square error is 39.370039370059054\n"
          ]
        }
      ]
    },
    {
      "cell_type": "code",
      "source": [
        "#3.4"
      ],
      "metadata": {
        "id": "eFrDNQ-2GXS9"
      },
      "execution_count": null,
      "outputs": []
    }
  ]
}