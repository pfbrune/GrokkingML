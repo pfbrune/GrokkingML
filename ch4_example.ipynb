{
  "nbformat": 4,
  "nbformat_minor": 0,
  "metadata": {
    "colab": {
      "name": "ch4_example.ipynb",
      "provenance": [],
      "collapsed_sections": [],
      "authorship_tag": "ABX9TyM53WdXDmge/TYWj72kea5o",
      "include_colab_link": true
    },
    "kernelspec": {
      "name": "python3",
      "display_name": "Python 3"
    },
    "language_info": {
      "name": "python"
    }
  },
  "cells": [
    {
      "cell_type": "markdown",
      "metadata": {
        "id": "view-in-github",
        "colab_type": "text"
      },
      "source": [
        "<a href=\"https://colab.research.google.com/github/pfbrune/GrokkingML/blob/main/ch4_example.ipynb\" target=\"_parent\"><img src=\"https://colab.research.google.com/assets/colab-badge.svg\" alt=\"Open In Colab\"/></a>"
      ]
    },
    {
      "cell_type": "code",
      "execution_count": 1,
      "metadata": {
        "id": "gJEJylIJajw5"
      },
      "outputs": [],
      "source": [
        "import pandas as pd\n",
        "import numpy as np\n",
        "import matplotlib.pyplot as plt"
      ]
    },
    {
      "cell_type": "code",
      "source": [
        "#define basis polynomial for data\n",
        "basis_coefs = [15,1,-1]\n",
        "def make_polynomial(coefs_in,x_vals):\n",
        "  num_coefs = len(coefs_in)\n",
        "  return sum([coefs_in[i]*x_vals**i for i in range(num_coefs)])\n",
        "\n",
        "def draw_polynomial(coefs_in, x_lims):\n",
        "  num_coefs = len(coefs_in)\n",
        "  x_vec = np.linspace(x_lims[0],x_lims[1],1000)\n"
      ],
      "metadata": {
        "id": "dnPaALzoa1R0"
      },
      "execution_count": 2,
      "outputs": []
    },
    {
      "cell_type": "code",
      "source": [
        ""
      ],
      "metadata": {
        "id": "ZIDYYK5Rbzs1"
      },
      "execution_count": null,
      "outputs": []
    }
  ]
}